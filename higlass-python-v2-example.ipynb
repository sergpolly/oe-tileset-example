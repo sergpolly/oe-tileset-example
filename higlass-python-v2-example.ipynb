{
 "cells": [
  {
   "cell_type": "markdown",
   "id": "d9a3f981",
   "metadata": {},
   "source": [
    "# import sample cooler"
   ]
  },
  {
   "cell_type": "code",
   "execution_count": 1,
   "id": "d0229c49",
   "metadata": {
    "scrolled": true
   },
   "outputs": [
    {
     "data": {
      "text/plain": [
       "'./test.mcool'"
      ]
     },
     "execution_count": 1,
     "metadata": {},
     "output_type": "execute_result"
    }
   ],
   "source": [
    "%load_ext autoreload\n",
    "%autoreload 2\n",
    "import cooltools\n",
    "from cooltools.sandbox import obs_over_exp_cooler\n",
    "import cooler\n",
    "import numpy as np\n",
    "import bioframe\n",
    "import pandas as pd\n",
    "# from typing import TypeVar\n",
    "# PandasDataFrame = TypeVar('pandas.core.frame.DataFrame')\n",
    "cool_file = cooltools.download_data(\"HFF_MicroC\", cache=True, data_dir='./')\n",
    "cool_file"
   ]
  },
  {
   "cell_type": "markdown",
   "id": "fe7c25f5",
   "metadata": {},
   "source": [
    "# precalculate expected for every resolution of the mcool ..."
   ]
  },
  {
   "cell_type": "code",
   "execution_count": 2,
   "id": "4094abf0",
   "metadata": {},
   "outputs": [],
   "source": [
    "# Use bioframe to fetch the genomic features from the UCSC.\n",
    "hg38_chromsizes = bioframe.fetch_chromsizes('hg38')\n",
    "hg38_cens = bioframe.fetch_centromeres('hg38')\n",
    "# create a view with chromosome arms using chromosome sizes and definition of centromeres\n",
    "hg38_arms = bioframe.make_chromarms(hg38_chromsizes,  hg38_cens)"
   ]
  },
  {
   "cell_type": "code",
   "execution_count": 3,
   "id": "0184ae26",
   "metadata": {},
   "outputs": [
    {
     "name": "stdout",
     "output_type": "stream",
     "text": [
      "working on resolution 1000000 ...\n"
     ]
    },
    {
     "name": "stderr",
     "output_type": "stream",
     "text": [
      "INFO:root:Done calculating cis expected in 0.434 sec ...\n",
      "INFO:root:Done calculating trans expected in 0.349 sec ...\n",
      "INFO:root:Returning combined expected DataFrame.\n"
     ]
    },
    {
     "name": "stdout",
     "output_type": "stream",
     "text": [
      "working on resolution 100000 ...\n"
     ]
    },
    {
     "name": "stderr",
     "output_type": "stream",
     "text": [
      "INFO:root:Done calculating cis expected in 1.430 sec ...\n",
      "INFO:root:Done calculating trans expected in 1.321 sec ...\n",
      "INFO:root:Returning combined expected DataFrame.\n"
     ]
    },
    {
     "name": "stdout",
     "output_type": "stream",
     "text": [
      "working on resolution 10000 ...\n"
     ]
    },
    {
     "name": "stderr",
     "output_type": "stream",
     "text": [
      "INFO:root:Done calculating cis expected in 5.108 sec ...\n",
      "INFO:root:Done calculating trans expected in 3.751 sec ...\n",
      "INFO:root:Returning combined expected DataFrame.\n"
     ]
    },
    {
     "name": "stdout",
     "output_type": "stream",
     "text": [
      "working on resolution 1000 ...\n"
     ]
    },
    {
     "name": "stderr",
     "output_type": "stream",
     "text": [
      "INFO:root:Done calculating cis expected in 14.014 sec ...\n",
      "INFO:root:Done calculating trans expected in 8.591 sec ...\n",
      "INFO:root:Returning combined expected DataFrame.\n"
     ]
    }
   ],
   "source": [
    "exp_dict = {}\n",
    "for res in [1000000, 100000, 10000, 1000]:\n",
    "    print(f\"working on resolution {res} ...\")\n",
    "    clr = cooler.Cooler(f\"{cool_file}::/resolutions/{res}\")\n",
    "\n",
    "    # generate bins table with weights=1, and NaN for bad bins ...\n",
    "    bins_oe = clr.bins()[:]\n",
    "    _bad_mask = bins_oe[\"weight\"].isna()\n",
    "    bins_oe[\"weight\"] = 1.\n",
    "    bins_oe.loc[_bad_mask,\"weight\"] = np.nan\n",
    "    \n",
    "    # select only those chromosomes available in cooler\n",
    "    hg38_arms = hg38_arms[hg38_arms.chrom.isin(clr.chromnames)].reset_index(drop=True)\n",
    "\n",
    "    # re-calculate full expected (cis + trans) at higher resolution\n",
    "    exp_dict[res] = obs_over_exp_cooler.expected_full(\n",
    "        clr,\n",
    "        view_df=hg38_arms,\n",
    "        smooth_cis=False,\n",
    "        aggregate_trans=False,\n",
    "        expected_column_name=\"expected\",\n",
    "        ignore_diags=0,\n",
    "        nproc=8,\n",
    "    )"
   ]
  },
  {
   "cell_type": "markdown",
   "id": "4e08adf2",
   "metadata": {},
   "source": [
    "# create custom `hg.tilesets.LocalTileset` from `clodius.tiles`\n",
    "\n",
    "The `higlass-server` relies on `clodius` for keeping a consistent API for accessing datasets as `Tilesets`. Every clodius tiles implementation includes a `tiles` and `tilset_info` implementation. The `hg.tilesets.LocalTileset` is a _very_ thin layer used to wrap these implementations for `hg`. \n",
    "\n",
    "In general, it is used to bind the filepath to the `clodius` functions and set a `uid` for uniquely identifying the tileset on the server. The function `create_cooler_tileset` is adapated from `hg`'s own cooler implementation to demonstrate how to hook into the server."
   ]
  },
  {
   "cell_type": "code",
   "execution_count": 4,
   "id": "56aa0fac",
   "metadata": {},
   "outputs": [],
   "source": [
    "import hg\n",
    "# hg.server.enable_proxy()\n",
    "# import clodius.tiles.cooler\n",
    "import functools\n",
    "import uuid\n",
    "\n",
    "# from oe import tiles, tileset_info\n",
    "import oe\n",
    "\n",
    "def tiles(filepath: str, expected: dict, view_df: pd.DataFrame):\n",
    "    # TODO: re-write with custom tiles handler\n",
    "    # Look at: https://github.com/higlass/clodius/blob/develop/clodius/tiles/cooler.py for implementation details\n",
    "    return functools.partial(oe.tiles, filepath, expected, view_df)\n",
    "\n",
    "def tileset_info(filepath: str):\n",
    "    # probably don't need to override this function from base cooler (tileset info likely the same)\n",
    "    return functools.partial(oe.tileset_info, filepath)\n",
    "\n",
    "def create_cooler_tileset(filepath: str, expected: dict, view_df: pd.DataFrame) -> hg.tilesets.LocalTileset:\n",
    "    \"\"\"Creates a Tileset to add to the hg.server\"\"\"\n",
    "    return hg.tilesets.LocalTileset(\n",
    "        datatype=\"matrix\",\n",
    "        tiles=tiles(filepath, expected, view_df),\n",
    "        info=tileset_info(filepath),\n",
    "        uid=str(uuid.uuid4()),  # uniquely identifies tileset for server\n",
    "        name=\"xxx\",\n",
    "    )\n",
    "\n",
    "# tileset = create_cooler_tileset(\"/home/sergpolly/Desktop/4dn2/fun.mcool\")\n",
    "tileset = create_cooler_tileset(\n",
    "    \"test.mcool\",\n",
    "    exp_dict,\n",
    "    hg38_arms[hg38_arms.chrom.isin(clr.chromnames)].reset_index(drop=True),\n",
    ")\n",
    "# tileset = create_cooler_tileset(\"test-oe.mcool\")\n",
    "tileset;"
   ]
  },
  {
   "cell_type": "markdown",
   "id": "82b1e431",
   "metadata": {},
   "source": [
    "# add `tileset` instance to `hg.server`"
   ]
  },
  {
   "cell_type": "code",
   "execution_count": 5,
   "id": "8072f1c5",
   "metadata": {},
   "outputs": [],
   "source": [
    "tileset_resource = hg.server.add(tileset, port=10000)\n",
    "tileset_resource; # can be used now in hg"
   ]
  },
  {
   "cell_type": "code",
   "execution_count": 6,
   "id": "bd36894f",
   "metadata": {},
   "outputs": [
    {
     "data": {
      "text/plain": [
       "{'resolutions': (1000, 10000, 100000, 1000000),\n",
       " 'transforms': [{'name': 'ICE', 'value': 'weight'}],\n",
       " 'max_pos': [325450970, 325450970],\n",
       " 'min_pos': [1, 1],\n",
       " 'chromsizes': [['chr2', 242193529], ['chr17', 83257441]]}"
      ]
     },
     "execution_count": 6,
     "metadata": {},
     "output_type": "execute_result"
    }
   ],
   "source": [
    "tileset_resource.tileset.info()"
   ]
  },
  {
   "cell_type": "markdown",
   "id": "2083386a",
   "metadata": {},
   "source": [
    "# use in `hg`"
   ]
  },
  {
   "cell_type": "code",
   "execution_count": 7,
   "id": "551a78f6",
   "metadata": {
    "scrolled": false
   },
   "outputs": [
    {
     "data": {
      "text/html": [
       "\n",
       "<!DOCTYPE html>\n",
       "<html>\n",
       "<head>\n",
       "  <link rel=\"stylesheet\" href=\"https://unpkg.com/higlass@1.11/dist/hglib.css\">\n",
       "</head>\n",
       "<body>\n",
       "  <div id=\"jupyter-hg-a8261e52d87a4d39a7c4b460db395eb0\"></div>\n",
       "  <script type=\"module\">\n",
       "\n",
       "    async function loadScript(src) {\n",
       "        return new Promise(resolve => {\n",
       "            const script = document.createElement('script');\n",
       "            script.onload = resolve;\n",
       "            script.src = src;\n",
       "            script.async = false;\n",
       "            document.head.appendChild(script);\n",
       "        });\n",
       "    }\n",
       "\n",
       "    async function loadHiglass() {\n",
       "        // need to manually load higlass; disable requirejs\n",
       "\n",
       "        // https://github.com/DanielHreben/requirejs-toggle\n",
       "        window.__requirejsToggleBackup = {\n",
       "            define: window.define,\n",
       "            require: window.require,\n",
       "            requirejs: window.requirejs,\n",
       "        };\n",
       "\n",
       "        for (const field of Object.keys(window.__requirejsToggleBackup)) {\n",
       "            window[field] = undefined;\n",
       "        }\n",
       "\n",
       "        let sources = [];\n",
       "\n",
       "        if (!window.hglib){\n",
       "            sources = sources.concat([\n",
       "                \"https://unpkg.com/react@17/umd/react.production.min.js\",\n",
       "                \"https://unpkg.com/react-dom@17/umd/react-dom.production.min.js\",\n",
       "                \"https://unpkg.com/pixi.js@6/dist/browser/pixi.min.js\",\n",
       "                \"https://unpkg.com/higlass@1.11/dist/hglib.js\",\n",
       "            ]);\n",
       "        }\n",
       "\n",
       "        for (const src of sources) await loadScript(src);\n",
       "\n",
       "        // restore requirejs after scripts have loaded\n",
       "        Object.assign(window, window.__requirejsToggleBackup);\n",
       "        delete window.__requirejsToggleBackup;\n",
       "\n",
       "        return window.hglib;\n",
       "    };\n",
       "\n",
       "    var el = document.getElementById('jupyter-hg-a8261e52d87a4d39a7c4b460db395eb0');\n",
       "    var spec = JSON.parse(\"{\\\"editable\\\": true, \\\"viewEditable\\\": true, \\\"tracksEditable\\\": true, \\\"views\\\": [{\\\"layout\\\": {\\\"x\\\": 0, \\\"y\\\": 0, \\\"w\\\": 6, \\\"h\\\": 6}, \\\"tracks\\\": {\\\"top\\\": [{\\\"type\\\": \\\"top-axis\\\", \\\"uid\\\": \\\"PnmhMVbdTgyaNp-6PCGTTg\\\"}], \\\"center\\\": [{\\\"tilesetUid\\\": \\\"1431b473-cd6d-4215-8303-db1aea747bf7\\\", \\\"server\\\": \\\"http://localhost:10000/api/v1/\\\", \\\"type\\\": \\\"heatmap\\\", \\\"uid\\\": \\\"OR0KEMqFRYKfO9Sse4qc-g\\\", \\\"options\\\": {\\\"name\\\": \\\"xxx\\\"}}]}, \\\"uid\\\": \\\"W9amoCVORpG0RiMSf6rYFw\\\", \\\"zoomLimits\\\": [1, null]}]}\");\n",
       "\n",
       "    loadHiglass().then(hglib => {\n",
       "        hglib.viewer(el, spec);\n",
       "    })\n",
       "  </script>\n",
       "</body>\n",
       "</html>"
      ],
      "text/plain": [
       "View(layout=Layout(x=0, y=0, w=6, h=6, moved=None, static=None), tracks=Tracks[TrackT](left=None, right=None, top=[EnumTrack(tilesetUid=None, server=None, type='top-axis', uid='PnmhMVbdTgyaNp-6PCGTTg', width=None, height=None, options=None, data=None, chromInfoPath=None, fromViewUid=None, x=None, y=None)], bottom=None, center=[HeatmapTrack(tilesetUid='1431b473-cd6d-4215-8303-db1aea747bf7', server='http://localhost:10000/api/v1/', type='heatmap', uid='OR0KEMqFRYKfO9Sse4qc-g', width=None, height=None, options={'name': 'xxx'}, data=None, position=None, transforms=None)], whole=None, gallery=None), uid='W9amoCVORpG0RiMSf6rYFw', autocompleteSource=None, chromInfoPath=None, genomePositionSearchBox=None, genomePositionSearchBoxVisible=None, initialXDomain=None, initialYDomain=None, overlays=None, selectionView=None, zoomFixed=None, zoomLimits=(1, None))"
      ]
     },
     "execution_count": 7,
     "metadata": {},
     "output_type": "execute_result"
    }
   ],
   "source": [
    "v1 = hg.view(\n",
    "    hg.track(\"top-axis\"),\n",
    "    tileset_resource.track(\"heatmap\"),\n",
    "    width=6\n",
    ")\n",
    "v1"
   ]
  }
 ],
 "metadata": {
  "kernelspec": {
   "display_name": "Python 3 (ipykernel)",
   "language": "python",
   "name": "python3"
  },
  "language_info": {
   "codemirror_mode": {
    "name": "ipython",
    "version": 3
   },
   "file_extension": ".py",
   "mimetype": "text/x-python",
   "name": "python",
   "nbconvert_exporter": "python",
   "pygments_lexer": "ipython3",
   "version": "3.8.13"
  }
 },
 "nbformat": 4,
 "nbformat_minor": 5
}
